{
  "nbformat": 4,
  "nbformat_minor": 0,
  "metadata": {
    "colab": {
      "provenance": []
    },
    "kernelspec": {
      "name": "python3",
      "display_name": "Python 3"
    },
    "language_info": {
      "name": "python"
    }
  },
  "cells": [
    {
      "cell_type": "markdown",
      "source": [
        "IMPLEMENTATION OF TOY PROBLEMS\n",
        "# **EXP 1A : Camel Banana Problem**"
      ],
      "metadata": {
        "id": "shH22qGXrFjU"
      }
    },
    {
      "cell_type": "code",
      "execution_count": null,
      "metadata": {
        "colab": {
          "base_uri": "https://localhost:8080/"
        },
        "id": "5Nd-7JPuqmw_",
        "outputId": "35e620e3-501f-4200-b0e7-e835ed4d7f3a"
      },
      "outputs": [
        {
          "output_type": "stream",
          "name": "stdout",
          "text": [
            "No. Of bananas at start : 3000\n",
            "Distance to be covered  : 1000\n",
            "Maximum No. of bananas camel can carry at a time : 1000\n",
            "Total bananas delivered :  533\n"
          ]
        }
      ],
      "source": [
        "total_bananas = int(input(\"No. Of bananas at start : \"))\n",
        "distance = int(input(\"Distance to be covered  : \"))\n",
        "load_capacity = int(input(\"Maximum No. of bananas camel can carry at a time : \"))\n",
        "\n",
        "bananas_lost = 0\n",
        "start = total_bananas\n",
        "for i in range(distance) :\n",
        "    while start > 0 :\n",
        "        start = start-load_capacity\n",
        "        if start == 1 :\n",
        "            bananas_lost = bananas_lost-1\n",
        "        bananas_lost = bananas_lost+2\n",
        "    bananas_lost = bananas_lost-1\n",
        "    start = total_bananas - bananas_lost\n",
        "    if start == 0:\n",
        "        break\n",
        "print(\"Total bananas delivered : \", start )"
      ]
    },
    {
      "cell_type": "markdown",
      "source": [
        "# **EXP 1B : Water Jug Problem**"
      ],
      "metadata": {
        "id": "-6t9hwg-xzUf"
      }
    },
    {
      "cell_type": "code",
      "source": [
        "def water_jug_problem(jug1_cap, jug2_cap, target_amount):\n",
        "    # Initialize the jugs and the possible actions\n",
        "    j1 = 0\n",
        "    j2 = 0\n",
        "    actions = [(\"fill\", 1), (\"fill\", 2), (\"empty\", 1), (\"empty\", 2), (\"pour\", 1, 2), (\"pour\", 2, 1)]\n",
        "    # Create an empty set to store visited states\n",
        "    visited = set()\n",
        "    # Create a queue to store states to visit\n",
        "    queue = [(j1, j2, [])]\n",
        "    while queue:\n",
        "        # Dequeue the front state from the queue\n",
        "        j1, j2, seq = queue.pop(0)\n",
        "        # If this state has not been visited before, mark it as visited\n",
        "        if (j1, j2) not in visited:\n",
        "            visited.add((j1, j2))\n",
        "            # If this state matches the target amount, return the sequence of actions taken to get to this state\n",
        "            if j1 == target_amount:\n",
        "                return seq\n",
        "            # Generate all possible next states from this state\n",
        "            for action in actions:\n",
        "                if action[0] == \"fill\":\n",
        "                    if action[1] == 1:\n",
        "                        next_state = (jug1_cap, j2)\n",
        "                    else:\n",
        "                        next_state = (j1, jug2_cap)\n",
        "                elif action[0] == \"empty\":\n",
        "                    if action[1] == 1:\n",
        "                        next_state = (0, j2)\n",
        "                    else:\n",
        "                        next_state = (j1, 0)\n",
        "                else:\n",
        "                    if action[1] == 1:\n",
        "                        amount = min(j1, jug2_cap - j2)\n",
        "                        next_state = (j1 - amount, j2 + amount)\n",
        "                    else:\n",
        "                        amount = min(j2, jug1_cap - j1)\n",
        "                        next_state = (j1 + amount, j2 - amount)\n",
        "                # Add the next state to the queue if it has not been visited before\n",
        "                if next_state not in visited:\n",
        "                    next_seq = seq + [action]\n",
        "                    queue.append((next_state[0], next_state[1], next_seq))\n",
        "    # If the queue becomes empty without finding a solution, return None\n",
        "    return None\n",
        "\n",
        "result = water_jug_problem(5, 3, 1)\n",
        "print(result)\n"
      ],
      "metadata": {
        "id": "6xRdJKuPx4zZ",
        "colab": {
          "base_uri": "https://localhost:8080/"
        },
        "outputId": "9611be66-0cc8-4791-d560-e408a37df42f"
      },
      "execution_count": null,
      "outputs": [
        {
          "output_type": "stream",
          "name": "stdout",
          "text": [
            "[('fill', 2), ('pour', 2, 1), ('fill', 2), ('pour', 2, 1), ('empty', 1), ('pour', 2, 1)]\n"
          ]
        }
      ]
    },
    {
      "cell_type": "markdown",
      "source": [
        "# **EXP 2 : Tic Tac Toe**\n",
        "developing an agent problem for real world prblems"
      ],
      "metadata": {
        "id": "8jlnxg-1mRRM"
      }
    },
    {
      "cell_type": "code",
      "source": [
        "# Set up the game board as a list\n",
        "board = [\"-\", \"-\", \"-\",\n",
        "        \"-\", \"-\", \"-\",\n",
        "        \"-\", \"-\", \"-\"]\n",
        "\n",
        "# Define a function to print the game board\n",
        "def print_board():\n",
        "    print(board[0] + \" | \" + board[1] + \" | \" + board[2])\n",
        "    print(board[3] + \" | \" + board[4] + \" | \" + board[5])\n",
        "    print(board[6] + \" | \" + board[7] + \" | \" + board[8])\n",
        "\n",
        "# Define a function to handle a player's turn\n",
        "def take_turn(player):\n",
        "    print(player + \"'s turn.\")\n",
        "    position = input(\"Choose a position from 1-9: \")\n",
        "    while position not in [\"1\", \"2\", \"3\", \"4\", \"5\", \"6\", \"7\", \"8\", \"9\"]:\n",
        "        position = input(\"Invalid input. Choose a position from 1-9: \")\n",
        "    position = int(position) - 1\n",
        "    while board[position] != \"-\":\n",
        "        position = int(input(\"Position already taken. Choose a different position: \")) - 1\n",
        "    board[position] = player\n",
        "    print_board()\n",
        "\n",
        "# Define a function to check if the game is over\n",
        "def check_game_over():\n",
        "    # Check for a win\n",
        "    if (board[0] == board[1] == board[2] != \"-\") or \\\n",
        "    (board[3] == board[4] == board[5] != \"-\") or \\\n",
        "    (board[6] == board[7] == board[8] != \"-\") or \\\n",
        "    (board[0] == board[3] == board[6] != \"-\") or \\\n",
        "    (board[1] == board[4] == board[7] != \"-\") or \\\n",
        "    (board[2] == board[5] == board[8] != \"-\") or \\\n",
        "    (board[0] == board[4] == board[8] != \"-\") or \\\n",
        "    (board[2] == board[4] == board[6] != \"-\"):\n",
        "        return \"win\"\n",
        "    # Check for a tie\n",
        "    elif \"-\" not in board:\n",
        "        return \"tie\"\n",
        "    # Game is not over\n",
        "    else:\n",
        "        return \"play\"\n",
        "\n",
        "# Define the main game loop\n",
        "def play_game():\n",
        "    print_board()\n",
        "    current_player = \"X\"\n",
        "    game_over = False\n",
        "    while not game_over:\n",
        "        take_turn(current_player)\n",
        "        game_result = check_game_over()\n",
        "        if game_result == \"win\":\n",
        "            print(current_player + \" wins!\")\n",
        "            game_over = True\n",
        "        elif game_result == \"tie\":\n",
        "            print(\"It's a tie!\")\n",
        "            game_over = True\n",
        "        else:\n",
        "            # Switch to the other player\n",
        "            current_player = \"O\" if current_player == \"X\" else \"X\"\n",
        "\n",
        "# Start the game\n",
        "play_game()"
      ],
      "metadata": {
        "colab": {
          "base_uri": "https://localhost:8080/"
        },
        "id": "bLhH06YOmnlj",
        "outputId": "3abe8c5c-ba7a-4ed4-8b59-51c9c96adccf"
      },
      "execution_count": null,
      "outputs": [
        {
          "output_type": "stream",
          "name": "stdout",
          "text": [
            "- | - | -\n",
            "- | - | -\n",
            "- | - | -\n",
            "X's turn.\n",
            "Choose a position from 1-9: 1\n",
            "X | - | -\n",
            "- | - | -\n",
            "- | - | -\n",
            "O's turn.\n",
            "Choose a position from 1-9: 3\n",
            "X | - | O\n",
            "- | - | -\n",
            "- | - | -\n",
            "X's turn.\n",
            "Choose a position from 1-9: 5\n",
            "X | - | O\n",
            "- | X | -\n",
            "- | - | -\n",
            "O's turn.\n",
            "Choose a position from 1-9: 6\n",
            "X | - | O\n",
            "- | X | O\n",
            "- | - | -\n",
            "X's turn.\n",
            "Choose a position from 1-9: 9\n",
            "X | - | O\n",
            "- | X | O\n",
            "- | - | X\n",
            "X wins!\n"
          ]
        }
      ]
    },
    {
      "cell_type": "markdown",
      "source": [
        "# **EXP 3 : CryptArthimetic Problem**\n",
        "constraint satisfaction problem"
      ],
      "metadata": {
        "id": "REwVN_YUo4tI"
      }
    },
    {
      "cell_type": "code",
      "source": [
        "import itertools\n",
        "\n",
        "def get_value(word, substitution):\n",
        "    s = 0\n",
        "    factor = 1\n",
        "    for letter in reversed(word):\n",
        "        s += factor * substitution[letter]\n",
        "        factor *= 10\n",
        "    return s\n",
        "\n",
        "def solve2(equation):\n",
        "    left, right = equation.lower().replace(' ', '').split('=')\n",
        "    left = left.split('+')\n",
        "    letters = set(right)\n",
        "    for word in left:\n",
        "        for letter in word:\n",
        "            letters.add(letter)\n",
        "    letters = list(letters)\n",
        "\n",
        "    digits = range(10)\n",
        "    for perm in itertools.permutations(digits, len(letters)):\n",
        "        sol = dict(zip(letters, perm))\n",
        "\n",
        "        if sum(get_value(word, sol) for word in left) == get_value(right, sol):\n",
        "            print(' + '.join(str(get_value(word, sol)) for word in left) + \" = {} (mapping: {})\".format(get_value(right, sol), sol))\n"
      ],
      "metadata": {
        "id": "qAwqfWbg0yGZ"
      },
      "execution_count": null,
      "outputs": []
    },
    {
      "cell_type": "code",
      "source": [
        "\n",
        "#solve2('SEND + MORE = MONEY')\n",
        "#solve2('POINT + ZERO = ENERGY ')\n",
        "solve2('EAT + THAT = APPLE')"
      ],
      "metadata": {
        "colab": {
          "base_uri": "https://localhost:8080/"
        },
        "id": "lssAyQduYAt5",
        "outputId": "7f16d94d-6222-43cf-8c71-47c5ba66ac66"
      },
      "execution_count": null,
      "outputs": [
        {
          "output_type": "stream",
          "name": "stdout",
          "text": [
            "819 + 9219 = 10038 (mapping: {'h': 2, 't': 9, 'p': 0, 'e': 8, 'l': 3, 'a': 1})\n"
          ]
        }
      ]
    },
    {
      "cell_type": "markdown",
      "source": [
        "#  **Exp 4** **:** **Implementation and Analysis of BFS And DFS for Same Application**"
      ],
      "metadata": {
        "id": "fEmE7cb-n0Rp"
      }
    },
    {
      "cell_type": "code",
      "source": [
        "from collections import deque\n",
        "# Example usage:\n",
        "graph = {\n",
        "    'A': ['B', 'C'],\n",
        "    'B': ['A', 'D', 'E'],\n",
        "    'C': ['A', 'F', 'G'],\n",
        "    'D': ['B'],\n",
        "    'E': ['B', 'H'],\n",
        "    'F': ['C'],\n",
        "    'G': ['C'],\n",
        "    'H': ['E']\n",
        "}\n",
        "\n",
        "def bfs(graph, start):\n",
        "    visited = set()\n",
        "    queue = deque([start])\n",
        "    while queue:\n",
        "        node = queue.popleft()\n",
        "        if node not in visited:\n",
        "            print(node, end=' ')\n",
        "            visited.add(node)\n",
        "            queue.extend(neighbor for neighbor in graph[node] if neighbor not in visited)\n",
        "\n",
        "def dfs(graph, node, visited):\n",
        "    if node not in visited:\n",
        "        print(node, end=' ')\n",
        "        visited.add(node)\n",
        "        for neighbor in graph[node]:\n",
        "            dfs(graph, neighbor, visited)\n",
        "start_node = 'A'\n",
        "visited_nodes = set()\n",
        "print(\"DFS : \")\n",
        "dfs(graph, start_node, visited_nodes)\n",
        "print('\\n')\n",
        "print(\"BFS : \")\n",
        "start_node = 'A'\n",
        "bfs(graph, start_node)"
      ],
      "metadata": {
        "colab": {
          "base_uri": "https://localhost:8080/"
        },
        "id": "ox5iSrZTn0BY",
        "outputId": "d2551b38-0486-4a3d-abf9-1ebb97be7d60"
      },
      "execution_count": null,
      "outputs": [
        {
          "output_type": "stream",
          "name": "stdout",
          "text": [
            "DFS : \n",
            "A B D E H C F G \n",
            "\n",
            "BFS : \n",
            "A B C D E F G H "
          ]
        }
      ]
    },
    {
      "cell_type": "markdown",
      "source": [
        "# **EXP 5**\n"
      ],
      "metadata": {
        "id": "3WBZNDypodp5"
      }
    },
    {
      "cell_type": "markdown",
      "source": [
        "**BEST FIRST SEARCH**"
      ],
      "metadata": {
        "id": "6sEt0uvPlJm4"
      }
    },
    {
      "cell_type": "code",
      "source": [
        "from queue import PriorityQueue\n",
        "\n",
        "class Graph:\n",
        "    def __init__(self, adjacency_list):\n",
        "        self.adjacency_list = adjacency_list\n",
        "\n",
        "    def get_neighbors(self, v):\n",
        "        return self.adjacency_list[v]\n",
        "\n",
        "    def h(self, n, goal):\n",
        "        # Heuristic function: returns the estimated cost from node 'n' to the goal\n",
        "        H = {'A': 3, 'B': 2, 'C': 1, 'D': 0}  # Example heuristic values for nodes\n",
        "        return H.get(n, float('inf'))\n",
        "\n",
        "    def best_first_search(self, start, goal):\n",
        "        explored = set()\n",
        "        pq = PriorityQueue()\n",
        "        pq.put((self.h(start, goal), [start]))  # Include the path to the current node\n",
        "\n",
        "        while not pq.empty():\n",
        "            _, path = pq.get()\n",
        "            current = path[-1]  # Get the last node in the path\n",
        "\n",
        "            if current == goal:\n",
        "                return path  # Goal found\n",
        "\n",
        "            explored.add(current)\n",
        "\n",
        "            for neighbor, _ in self.get_neighbors(current):\n",
        "                if neighbor not in explored:\n",
        "                    pq.put((self.h(neighbor, goal), path + [neighbor]))  # Include neighbor in the path\n",
        "\n",
        "        return None  # Goal not found\n",
        "\n",
        "# Example usage:\n",
        "adjacency_list = {'A': [('B', 1), ('C', 2)], 'B': [('D', 3)], 'C': [('D', 2)], 'D': []}\n",
        "graph = Graph(adjacency_list)\n",
        "start_node, goal_node = 'A', 'D'\n",
        "path = graph.best_first_search(start_node, goal_node)\n",
        "if path:\n",
        "    print(\"Path found:\", path)\n",
        "else:\n",
        "    print(\"No path exists from\", start_node, \"to\", goal_node)\n",
        "\n"
      ],
      "metadata": {
        "colab": {
          "base_uri": "https://localhost:8080/"
        },
        "id": "4aUhrPCSlLzw",
        "outputId": "727edd8d-41ca-4bb6-b195-4e8af6a18ea1"
      },
      "execution_count": null,
      "outputs": [
        {
          "output_type": "stream",
          "name": "stdout",
          "text": [
            "Path found: ['A', 'C', 'D']\n"
          ]
        }
      ]
    },
    {
      "cell_type": "markdown",
      "source": [
        "A*"
      ],
      "metadata": {
        "id": "xSRVneA7lOk5"
      }
    },
    {
      "cell_type": "code",
      "source": [
        "\n",
        "\n",
        "\n",
        "class Graph:\n",
        "    def __init__(self, adjacency_list):\n",
        "        self.adjacency_list = adjacency_list\n",
        "\n",
        "    def get_neighbors(self, v):\n",
        "        return self.adjacency_list[v]\n",
        "\n",
        "    def h(self, n):\n",
        "        H = {'A': 1, 'B': 1, 'C': 1, 'D': 1}\n",
        "        return H.get(n, float('inf'))\n",
        "\n",
        "    def a_star_algorithm(self, start, goal):\n",
        "        open_list, closed_list, g, parents = {start}, set(), {start: 0}, {start: start}\n",
        "\n",
        "        while open_list:\n",
        "            n = min(open_list, key=lambda x: g[x] + self.h(x))\n",
        "            if n == goal:\n",
        "                path = []\n",
        "                while n != start:\n",
        "                    path.append(n)\n",
        "                    n = parents[n]\n",
        "                path.append(start)\n",
        "                return path[::-1]\n",
        "            for m, weight in self.get_neighbors(n):\n",
        "                if m not in open_list and m not in closed_list:\n",
        "                    open_list.add(m)\n",
        "                    parents[m] = n\n",
        "                    g[m] = g[n] + weight\n",
        "                elif m in open_list and g[m] > g[n] + weight:\n",
        "                    g[m], parents[m] = g[n] + weight, n\n",
        "            open_list.remove(n)\n",
        "            closed_list.add(n)\n",
        "        return None\n",
        "\n",
        "# Example usage:\n",
        "adjacency_list = {'A': [('B', 1), ('C', 3), ('D', 7)], 'B': [('D', 5)], 'C': [('D', 12)]}\n",
        "graph1 = Graph(adjacency_list)\n",
        "print(\"A* path:\", graph1.a_star_algorithm('A', 'D'))\n"
      ],
      "metadata": {
        "colab": {
          "base_uri": "https://localhost:8080/"
        },
        "id": "Ui4jgN1mLBjh",
        "outputId": "d7207a85-e817-4ecd-b983-ec9e4feadc44"
      },
      "execution_count": null,
      "outputs": [
        {
          "output_type": "stream",
          "name": "stdout",
          "text": [
            "A* path: ['A', 'B', 'D']\n"
          ]
        }
      ]
    },
    {
      "cell_type": "markdown",
      "source": [
        "# **EXP 6 : Fuzzy"
      ],
      "metadata": {
        "id": "Ff6-bvMR1rX1"
      }
    },
    {
      "cell_type": "code",
      "source": [
        "# Define fuzzy sets A and B\n",
        "A = {\"a\": 0.2, \"b\": 0.3, \"c\": 0.6, \"d\": 0.6}\n",
        "B = {\"a\": 0.9, \"b\": 0.9, \"c\": 0.4, \"d\": 0.5}\n",
        "\n",
        "# Print fuzzy sets A and B with labels and explanations\n",
        "print('First Fuzzy Set (A):')\n",
        "print('A is a fuzzy set representing certain elements with varying degrees of membership.')\n",
        "print('For each element in A, the membership value indicates the degree of membership.')\n",
        "for key, value in A.items():\n",
        "    print(f\"{key}: {value}\")\n",
        "\n",
        "print('\\nSecond Fuzzy Set (B):')\n",
        "print('B is another fuzzy set representing certain elements with varying degrees of membership.')\n",
        "print('For each element in B, the membership value indicates the degree of membership.')\n",
        "for key, value in B.items():\n",
        "    print(f\"{key}: {value}\")\n",
        "\n",
        "# Initialize fuzzy set for union\n",
        "union_set = {}\n",
        "\n",
        "# Perform fuzzy set union\n",
        "for key in A.keys() | B.keys():\n",
        "    union_set[key] = max(A.get(key, 0), B.get(key, 0))\n",
        "\n",
        "# Print fuzzy set union with label and explanation\n",
        "print('\\nFuzzy Set Union (Y):')\n",
        "print('The union of fuzzy sets A and B results in a new fuzzy set Y.')\n",
        "print('For each element in Y, the membership value is the maximum of the membership values in A and B.')\n",
        "for key, value in union_set.items():\n",
        "    print(f\"{key}: {value}\")\n"
      ],
      "metadata": {
        "colab": {
          "base_uri": "https://localhost:8080/"
        },
        "id": "piWgt1h71rF9",
        "outputId": "a25e599a-9e67-436f-cc24-f640d566cab2"
      },
      "execution_count": null,
      "outputs": [
        {
          "output_type": "stream",
          "name": "stdout",
          "text": [
            "First Fuzzy Set (A):\n",
            "A is a fuzzy set representing certain elements with varying degrees of membership.\n",
            "For each element in A, the membership value indicates the degree of membership.\n",
            "a: 0.2\n",
            "b: 0.3\n",
            "c: 0.6\n",
            "d: 0.6\n",
            "\n",
            "Second Fuzzy Set (B):\n",
            "B is another fuzzy set representing certain elements with varying degrees of membership.\n",
            "For each element in B, the membership value indicates the degree of membership.\n",
            "a: 0.9\n",
            "b: 0.9\n",
            "c: 0.4\n",
            "d: 0.5\n",
            "\n",
            "Fuzzy Set Union (Y):\n",
            "The union of fuzzy sets A and B results in a new fuzzy set Y.\n",
            "For each element in Y, the membership value is the maximum of the membership values in A and B.\n",
            "d: 0.6\n",
            "c: 0.6\n",
            "b: 0.9\n",
            "a: 0.9\n"
          ]
        }
      ]
    },
    {
      "cell_type": "markdown",
      "source": [
        "# Dempster Shafer"
      ],
      "metadata": {
        "id": "wa1NSoqbD4E1"
      }
    },
    {
      "cell_type": "code",
      "source": [
        "def combine_beliefs(beliefs):\n",
        "    # Combine beliefs using Dempster's rule of combination\n",
        "    combined_belief = {}\n",
        "    for subset in beliefs.keys():\n",
        "        combined_belief[subset] = 1\n",
        "        for other_subset in beliefs.keys():\n",
        "            if subset != other_subset:\n",
        "                combined_belief[subset] *= (1 - beliefs[other_subset])\n",
        "    normalization_factor = sum(combined_belief.values())\n",
        "    for subset in combined_belief.keys():\n",
        "        combined_belief[subset] /= normalization_factor\n",
        "    return combined_belief\n",
        "\n",
        "# Example: combining beliefs from two sources\n",
        "beliefs1 = {\"A\": 0.2, \"B\": 0.4, \"C\": 0.1}\n",
        "beliefs2 = {\"B\": 0.3, \"C\": 0.2, \"D\": 0.5}\n",
        "\n",
        "combined_belief = combine_beliefs(beliefs1)\n",
        "print(\"Combined belief from source 1:\", combined_belief)\n",
        "\n",
        "combined_belief = combine_beliefs(beliefs2)\n",
        "print(\"Combined belief from source 2:\", combined_belief)\n"
      ],
      "metadata": {
        "colab": {
          "base_uri": "https://localhost:8080/"
        },
        "id": "2VcTaMTUD7We",
        "outputId": "8d5d1e1f-b74a-4b06-b253-24acde500fa8"
      },
      "execution_count": null,
      "outputs": [
        {
          "output_type": "stream",
          "name": "stdout",
          "text": [
            "Combined belief from source 1: {'A': 0.3103448275862069, 'B': 0.41379310344827586, 'C': 0.2758620689655172}\n",
            "Combined belief from source 2: {'B': 0.3053435114503817, 'C': 0.2671755725190839, 'D': 0.4274809160305343}\n"
          ]
        }
      ]
    },
    {
      "cell_type": "markdown",
      "source": [
        "# **EXP 7 : Implementation of unification and resolution for real world problems.**"
      ],
      "metadata": {
        "id": "O8nL5cSw3xE_"
      }
    },
    {
      "cell_type": "code",
      "source": [
        "def unify(statement1, statement2):\n",
        "    # Split statements into words\n",
        "    words1 = statement1.split()\n",
        "    words2 = statement2.split()\n",
        "\n",
        "    # Initialize an empty substitution dictionary\n",
        "    substitution = {}\n",
        "\n",
        "    # Iterate over the words in both statements\n",
        "    for word1, word2 in zip(words1, words2):\n",
        "        # If a word in statement 2 is a variable, assign its value based on statement 1\n",
        "        if word2.isalpha() and word2[0].isupper():\n",
        "            substitution[word2] = word1\n",
        "        # If words don't match and neither is a variable, unification is not possible\n",
        "        elif word1 != word2:\n",
        "            return None\n",
        "\n",
        "    # Return the substitution dictionary\n",
        "    return substitution\n",
        "\n",
        "# Given statements\n",
        "statement1 = \"Moksha and Vineela are sisters\"\n",
        "statement2 = \"X and Y are sisters\"\n",
        "\n",
        "# Unify statement 2 with statement 1\n",
        "result = unify(statement1, statement2)\n",
        "\n",
        "# Print the result\n",
        "if result:\n",
        "    print(\"The unification is successful. Substitution =\", result)\n",
        "else:\n",
        "    print(\"Unification failed.\")"
      ],
      "metadata": {
        "id": "DJlk7rTS_r7P",
        "outputId": "5176649f-df36-4e63-baf2-a7c35f9f9d02",
        "colab": {
          "base_uri": "https://localhost:8080/"
        }
      },
      "execution_count": null,
      "outputs": [
        {
          "output_type": "stream",
          "name": "stdout",
          "text": [
            "The unification is successful. Substitution = {'X': 'Moksha', 'Y': 'Vineela'}\n"
          ]
        }
      ]
    },
    {
      "cell_type": "markdown",
      "source": [
        "# Resolution"
      ],
      "metadata": {
        "id": "RUe2KcgsDibg"
      }
    },
    {
      "cell_type": "code",
      "source": [
        "class Parameter:\n",
        "    variable_count = 1\n",
        "\n",
        "    def __init__(self, name=None):\n",
        "        self.name = name or f\"v{Parameter.variable_count}\"\n",
        "        Parameter.variable_count += 1\n",
        "\n",
        "    def unify(self, type_, name):\n",
        "        self.type = type_\n",
        "        self.name = name\n",
        "\n",
        "class Predicate:\n",
        "    def __init__(self, name, params):\n",
        "        self.name, self.params = name, params\n",
        "\n",
        "class Sentence:\n",
        "    def __init__(self, string):\n",
        "        self.predicates = [Predicate(name, [Parameter(p) if p[0].isupper() else p for p in params.split(\",\")])\n",
        "                           for name, params in [predicate.split(\"(\") for predicate in string.split(\"|\")]]\n",
        "\n",
        "    def containsVariable(self):\n",
        "        return any(not param.isConstant() for pred in self.predicates for param in pred.params)\n",
        "\n",
        "class KB:\n",
        "    def __init__(self, inputSentences):\n",
        "        self.sentences = [Sentence(s) for s in inputSentences]\n",
        "\n",
        "    def askQueries(self, queryList):\n",
        "        results = []\n",
        "        for query in queryList:\n",
        "            result = \"TRUE\" if any(self.resolve([Sentence(f\"~{query}\")], [False]*(len(self.sentences)+1)) for _ in range(40)) else \"FALSE\"\n",
        "            results.append(f\"{query}: {result}\")\n",
        "        return results\n",
        "\n",
        "    def resolve(self, queryStack, visited):\n",
        "        if queryStack:\n",
        "            query = queryStack.pop()\n",
        "            queryPredicate = query.predicates[0]\n",
        "            for kb_sentence in self.sentences:\n",
        "                if not visited[self.sentences.index(kb_sentence)]:\n",
        "                    for kbPredicate in kb_sentence.predicates:\n",
        "                        if kbPredicate.name == queryPredicate.name:\n",
        "                            if all(self.resolve([Sentence(f\"~{q}\") for q in query.predicates]+[kb_sentence], visited) for q in kbPredicate.params+queryPredicate.params):\n",
        "                                print(f\"Resolved {queryPredicate.name} with {kbPredicate.name} in sentence: {kb_sentence}\")\n",
        "                                return True\n",
        "        return True\n",
        "\n",
        "# Example usage\n",
        "inputSentences = [\n",
        "    \"sister(Moksha,Vineela)\",\n",
        "    \"brother(Vineela,Raghav)\",\n",
        "    \"sister(Vineela,Moksha)\"\n",
        "]\n",
        "inputQueries = [\"sister(Vineela,Moksha)\", \"sister(Vineela,Moksha)\"]\n",
        "kb = KB(inputSentences)\n",
        "results = kb.askQueries(inputQueries)\n",
        "for result in results:\n",
        "    print(result)\n",
        "\n",
        "\n"
      ],
      "metadata": {
        "colab": {
          "base_uri": "https://localhost:8080/"
        },
        "id": "BhNVrtgwuW1L",
        "outputId": "dcf125e6-c96a-49eb-da75-aee1c2b14aa6"
      },
      "execution_count": null,
      "outputs": [
        {
          "output_type": "stream",
          "name": "stdout",
          "text": [
            "sister(Vineela,Moksha): TRUE\n",
            "sister(Vineela,Moksha): TRUE\n"
          ]
        }
      ]
    },
    {
      "cell_type": "code",
      "source": [
        "def resolution(sentence1, sentence2):\n",
        "    clauses = sentence1 + sentence2  # Combine the clauses of both sentences\n",
        "    for clause in clauses:\n",
        "        negated_clause = negate_clause(clause)  # Negate each clause\n",
        "        if negated_clause in clauses:  # Check if the negation is already in the combined set\n",
        "            resolution_clause = f\"({clause}, {negated_clause})\"\n",
        "            return True, resolution_clause  # If so, resolution succeeds\n",
        "    return False, \"\"  # If no resolution is found, return False\n",
        "\n",
        "\n",
        "def negate_clause(clause):\n",
        "    # Simple negation function, assuming negation is denoted by prepending '~' to the clause\n",
        "    return '~' + clause\n",
        "\n",
        "\n",
        "# Example sentences\n",
        "sentence1 = ['p', 'q', 'r']  # Example clause 1\n",
        "sentence2 = ['~q', 's']       # Example clause 2\n",
        "\n",
        "# Perform resolution\n",
        "resolution_result, resolution_clause = resolution(sentence1, sentence2)\n",
        "\n",
        "# Print result\n",
        "if resolution_result:\n",
        "    print(\"Resolution successful. Resolved clauses:\", resolution_clause)\n",
        "else:\n",
        "    print(\"Resolution failed.\")\n"
      ],
      "metadata": {
        "colab": {
          "base_uri": "https://localhost:8080/"
        },
        "id": "2xvwwRDxDldu",
        "outputId": "00ade9ab-dd25-457d-d637-2dd3465fe616"
      },
      "execution_count": null,
      "outputs": [
        {
          "output_type": "stream",
          "name": "stdout",
          "text": [
            "Resolution successful. Resolved clauses: (q, ~q)\n"
          ]
        }
      ]
    },
    {
      "cell_type": "markdown",
      "source": [
        "# **EXP 8 : Unsupervised Learning Methods**\n",
        "\n",
        "- k means clustering\n",
        "- k nearest neighbors"
      ],
      "metadata": {
        "id": "izORNzG3H7Ol"
      }
    },
    {
      "cell_type": "code",
      "source": [
        "import matplotlib.pyplot as plt\n",
        "from sklearn.cluster import KMeans\n",
        "\n",
        "\n",
        "x = [1,2,2,1,8,9,8,9]\n",
        "y = [1,2,1,2,8,9,9,8]\n",
        "\n",
        "plt.scatter(x,y)\n",
        "plt.show()\n",
        "\n",
        "\n",
        "data = list(zip(x,y))\n",
        "inertias = []\n",
        "\n",
        "for i in range(1,8):\n",
        "  kmeans = KMeans(n_clusters=i)\n",
        "  kmeans.fit(data)\n",
        "  inertias.append(kmeans.inertia_)\n",
        "\n",
        "plt.plot(range(1,8),inertias,marker=\"o\")\n",
        "plt.show()\n",
        "\n",
        "\n",
        "kmeans = KMeans(n_clusters=2)\n",
        "kmeans.fit(data)\n",
        "plt.scatter(x,y,c=kmeans.labels_)\n",
        "plt.show()\n",
        "\n",
        "\n"
      ],
      "metadata": {
        "id": "ELLv3SWLAc3P",
        "colab": {
          "base_uri": "https://localhost:8080/",
          "height": 1000
        },
        "outputId": "ab6e5224-7448-4555-b5d3-1d091ad5bb77"
      },
      "execution_count": null,
      "outputs": [
        {
          "output_type": "display_data",
          "data": {
            "text/plain": [
              "<Figure size 640x480 with 1 Axes>"
            ],
            "image/png": "[encoded data removed]"
          },
          "metadata": {}
        },
        {
          "output_type": "stream",
          "name": "stderr",
          "text": [
            "/usr/local/lib/python3.10/dist-packages/sklearn/cluster/_kmeans.py:870: FutureWarning: The default value of `n_init` will change from 10 to 'auto' in 1.4. Set the value of `n_init` explicitly to suppress the warning\n",
            "  warnings.warn(\n",
            "/usr/local/lib/python3.10/dist-packages/sklearn/cluster/_kmeans.py:870: FutureWarning: The default value of `n_init` will change from 10 to 'auto' in 1.4. Set the value of `n_init` explicitly to suppress the warning\n",
            "  warnings.warn(\n",
            "/usr/local/lib/python3.10/dist-packages/sklearn/cluster/_kmeans.py:870: FutureWarning: The default value of `n_init` will change from 10 to 'auto' in 1.4. Set the value of `n_init` explicitly to suppress the warning\n",
            "  warnings.warn(\n",
            "/usr/local/lib/python3.10/dist-packages/sklearn/cluster/_kmeans.py:870: FutureWarning: The default value of `n_init` will change from 10 to 'auto' in 1.4. Set the value of `n_init` explicitly to suppress the warning\n",
            "  warnings.warn(\n",
            "/usr/local/lib/python3.10/dist-packages/sklearn/cluster/_kmeans.py:870: FutureWarning: The default value of `n_init` will change from 10 to 'auto' in 1.4. Set the value of `n_init` explicitly to suppress the warning\n",
            "  warnings.warn(\n",
            "/usr/local/lib/python3.10/dist-packages/sklearn/cluster/_kmeans.py:870: FutureWarning: The default value of `n_init` will change from 10 to 'auto' in 1.4. Set the value of `n_init` explicitly to suppress the warning\n",
            "  warnings.warn(\n",
            "/usr/local/lib/python3.10/dist-packages/sklearn/cluster/_kmeans.py:870: FutureWarning: The default value of `n_init` will change from 10 to 'auto' in 1.4. Set the value of `n_init` explicitly to suppress the warning\n",
            "  warnings.warn(\n"
          ]
        },
        {
          "output_type": "display_data",
          "data": {
            "text/plain": [
              "<Figure size 640x480 with 1 Axes>"
            ],
            "image/png": "[encoded data removed]"
          },
          "metadata": {}
        },
        {
          "output_type": "stream",
          "name": "stderr",
          "text": [
            "/usr/local/lib/python3.10/dist-packages/sklearn/cluster/_kmeans.py:870: FutureWarning: The default value of `n_init` will change from 10 to 'auto' in 1.4. Set the value of `n_init` explicitly to suppress the warning\n",
            "  warnings.warn(\n"
          ]
        },
        {
          "output_type": "display_data",
          "data": {
            "text/plain": [
              "<Figure size 640x480 with 1 Axes>"
            ],
            "image/png": "[encoded data removed]"
          },
          "metadata": {}
        }
      ]
    },
    {
      "cell_type": "markdown",
      "source": [
        "**KNN**"
      ],
      "metadata": {
        "id": "l86K4MhXisgL"
      }
    },
    {
      "cell_type": "code",
      "source": [
        "import matplotlib.pyplot as plt\n",
        "from sklearn.neighbors import KNeighborsClassifier\n",
        "\n",
        "\n",
        "\n",
        "x = [1,2,2,1,8,9,8,9]\n",
        "y = [1,2,1,2,8,9,9,8]\n",
        "classes = [0,0,0,0,1,1,1,1]\n",
        "plt.scatter(x,y,c=classes)\n",
        "plt.show()\n",
        "\n",
        "data = list(zip(x,y))\n",
        "knn = KNeighborsClassifier(n_neighbors=2)\n",
        "knn.fit(data,classes)\n",
        "\n",
        "new_x = 8.5\n",
        "new_y = 8.5\n",
        "\n",
        "new_point = [(new_x,new_y)]\n",
        "prediction = knn.predict(new_point)\n",
        "print(prediction)\n",
        "\n"
      ],
      "metadata": {
        "colab": {
          "base_uri": "https://localhost:8080/",
          "height": 447
        },
        "id": "dKfs9f1giurK",
        "outputId": "1adbc4ec-ca0d-4b4c-88ea-4e7e6909c39c"
      },
      "execution_count": null,
      "outputs": [
        {
          "output_type": "display_data",
          "data": {
            "text/plain": [
              "<Figure size 640x480 with 1 Axes>"
            ],
            "image/png": "[encoded data removed]"
          },
          "metadata": {}
        },
        {
          "output_type": "stream",
          "name": "stdout",
          "text": [
            "[1]\n"
          ]
        }
      ]
    },
    {
      "cell_type": "code",
      "source": [],
      "metadata": {
        "id": "9RrPs3nO5Po6"
      },
      "execution_count": null,
      "outputs": []
    },
    {
      "cell_type": "markdown",
      "source": [
        "# SVM"
      ],
      "metadata": {
        "id": "-uF5-06q5QIr"
      }
    },
    {
      "cell_type": "code",
      "source": [
        "import numpy as np\n",
        "\n",
        "# Step 1: Prepare Your Data\n",
        "# Create a simple dataset with two features and two classes\n",
        "# Replace this with your own dataset\n",
        "X_data = np.array([[1, 2], [2, 3], [3, 4], [4, 5], [5, 6],\n",
        "                   [6, 7], [7, 8], [8, 9], [9, 10], [10, 11]])\n",
        "y_data = np.array([0, 0, 0, 0, 0, 1, 1, 1, 1, 1])  # Binary classification labels\n",
        "\n",
        "# Step 2: Split Your Dataset\n",
        "# Use train_test_split to split your dataset into training and testing sets\n",
        "from sklearn.model_selection import train_test_split\n",
        "X_train, X_test, y_train, y_test = train_test_split(X_data, y_data, test_size=0.3, random_state=42)\n",
        "\n",
        "# Step 3: Scale Your Features\n",
        "# Scale the features using StandardScaler\n",
        "from sklearn.preprocessing import StandardScaler\n",
        "scaler = StandardScaler()\n",
        "X_train_scaled = scaler.fit_transform(X_train)\n",
        "X_test_scaled = scaler.transform(X_test)\n",
        "\n",
        "# Step 4: Initialize and Train Your SVM Model\n",
        "# Initialize the SVM classifier and train it on the training data\n",
        "from sklearn.svm import SVC\n",
        "svm = SVC(kernel='linear', random_state=42)\n",
        "svm.fit(X_train_scaled, y_train)\n",
        "\n",
        "# Step 5: Evaluate Your Model\n",
        "# Make predictions on the testing set and calculate accuracy\n",
        "from sklearn.metrics import accuracy_score\n",
        "y_pred = svm.predict(X_test_scaled)\n",
        "accuracy = accuracy_score(y_test, y_pred)\n",
        "print(\"Accuracy:\", accuracy)\n"
      ],
      "metadata": {
        "colab": {
          "base_uri": "https://localhost:8080/"
        },
        "id": "wfHBNonZ5Se-",
        "outputId": "45e408b3-5b3b-412b-b4ba-4ac646034c4f"
      },
      "execution_count": 1,
      "outputs": [
        {
          "output_type": "stream",
          "name": "stdout",
          "text": [
            "Accuracy: 1.0\n"
          ]
        }
      ]
    },
    {
      "cell_type": "markdown",
      "source": [
        "Log"
      ],
      "metadata": {
        "id": "3LsEwI9r5cFB"
      }
    },
    {
      "cell_type": "code",
      "source": [
        "import numpy as np\n",
        "\n",
        "# Step 1: Prepare Your Data\n",
        "# Create a simple dataset with two features and two classes\n",
        "# Replace this with your own dataset\n",
        "X_data = np.array([[1, 2], [2, 3], [3, 4], [4, 5], [5, 6],\n",
        "                   [6, 7], [7, 8], [8, 9], [9, 10], [10, 11]])\n",
        "y_data = np.array([0, 0, 0, 0, 0, 1, 1, 1, 1, 1])  # Binary classification labels\n",
        "\n",
        "# Step 2: Split Your Dataset\n",
        "# Use train_test_split to split your dataset into training and testing sets\n",
        "from sklearn.model_selection import train_test_split\n",
        "X_train, X_test, y_train, y_test = train_test_split(X_data, y_data, test_size=0.3, random_state=42)\n",
        "\n",
        "# Step 3: Scale Your Features\n",
        "# Scale the features using StandardScaler\n",
        "from sklearn.preprocessing import StandardScaler\n",
        "scaler = StandardScaler()\n",
        "X_train_scaled = scaler.fit_transform(X_train)\n",
        "X_test_scaled = scaler.transform(X_test)\n",
        "\n",
        "# Step 4: Initialize and Train Your Logistic Regression Model\n",
        "# Initialize the logistic regression classifier and train it on the training data\n",
        "from sklearn.linear_model import LogisticRegression\n",
        "log_reg = LogisticRegression(random_state=42)\n",
        "log_reg.fit(X_train_scaled, y_train)\n",
        "\n",
        "# Step 5: Evaluate Your Model\n",
        "# Make predictions on the testing set and calculate accuracy\n",
        "from sklearn.metrics import accuracy_score\n",
        "y_pred = log_reg.predict(X_test_scaled)\n",
        "accuracy = accuracy_score(y_test, y_pred)\n",
        "print(\"Accuracy:\", accuracy)\n"
      ],
      "metadata": {
        "colab": {
          "base_uri": "https://localhost:8080/"
        },
        "id": "eCSgmTcI5d_g",
        "outputId": "51e701b5-ecd4-46e4-d937-f7a0908b4cf5"
      },
      "execution_count": 2,
      "outputs": [
        {
          "output_type": "stream",
          "name": "stdout",
          "text": [
            "Accuracy: 0.6666666666666666\n"
          ]
        }
      ]
    },
    {
      "cell_type": "markdown",
      "source": [
        "# 9. NLP"
      ],
      "metadata": {
        "id": "WTVY-bsJC6mi"
      }
    },
    {
      "cell_type": "code",
      "source": [
        "import nltk\n",
        "nltk.download('vader_lexicon')\n",
        "\n",
        "from nltk.sentiment.vader import SentimentIntensityAnalyzer\n",
        "\n",
        "# Initialize the sentiment analyzer\n",
        "sia = SentimentIntensityAnalyzer()\n",
        "\n",
        "# Sample text for analysis\n",
        "text = \"I really enjoyed this movie. The acting was great and the plot was engaging.\"\n",
        "\n",
        "# Calculate the sentiment score for the text\n",
        "score = sia.polarity_scores(text)\n",
        "\n",
        "# Print the sentiment score\n",
        "print(\"negative = \", score[\"neg\"])\n",
        "print(\"neutral = \", score[\"neu\"])\n",
        "print(\"positive = \", score[\"pos\"])\n",
        "print(\"compound = \", score[\"compound\"])\n"
      ],
      "metadata": {
        "colab": {
          "base_uri": "https://localhost:8080/"
        },
        "id": "cw0gE33qC6NY",
        "outputId": "5296d272-ae32-410a-bfe3-23e95a45f180"
      },
      "execution_count": null,
      "outputs": [
        {
          "output_type": "stream",
          "name": "stdout",
          "text": [
            "negative =  0.0\n",
            "neutral =  0.498\n",
            "positive =  0.502\n",
            "compound =  0.8777\n"
          ]
        },
        {
          "output_type": "stream",
          "name": "stderr",
          "text": [
            "[nltk_data] Downloading package vader_lexicon to /root/nltk_data...\n"
          ]
        }
      ]
    },
    {
      "cell_type": "markdown",
      "source": [
        "# Deep Learning"
      ],
      "metadata": {
        "id": "BTsIOJnHDa0o"
      }
    },
    {
      "cell_type": "code",
      "source": [
        "# Import necessary libraries\n",
        "import tensorflow as tf\n",
        "from tensorflow.keras import layers, models\n",
        "from tensorflow.keras.datasets import mnist\n",
        "\n",
        "# Load and preprocess the data\n",
        "(train_images, train_labels), (test_images, test_labels) = mnist.load_data()\n",
        "train_images, test_images = train_images / 255.0, test_images / 255.0\n",
        "\n",
        "# Define the neural network model\n",
        "model = models.Sequential([\n",
        "    layers.Flatten(input_shape=(28, 28)),  # Flatten 28x28 images into 1D array\n",
        "    layers.Dense(128, activation='relu'),  # Fully connected layer with 128 neurons\n",
        "    layers.Dense(10, activation='softmax')  # Output layer with 10 neurons for classification\n",
        "])\n",
        "\n",
        "# Compile the model\n",
        "model.compile(optimizer='adam',  # Use Adam optimizer\n",
        "              loss='sparse_categorical_crossentropy',  # Use crossentropy loss\n",
        "              metrics=['accuracy'])  # Monitor accuracy during training\n",
        "\n",
        "# Train the model\n",
        "model.fit(train_images, train_labels, epochs=5)  # Train for 5 epochs\n",
        "\n",
        "# Evaluate the model\n",
        "test_loss, test_acc = model.evaluate(test_images, test_labels)  # Evaluate on test data\n",
        "print('Test accuracy:', test_acc)  # Print test accuracy\n"
      ],
      "metadata": {
        "colab": {
          "base_uri": "https://localhost:8080/"
        },
        "id": "YklYYPqlDdn6",
        "outputId": "91e5b79d-e4d5-47b4-f01a-21a96acb6ef7"
      },
      "execution_count": null,
      "outputs": [
        {
          "output_type": "stream",
          "name": "stdout",
          "text": [
            "Downloading data from https://storage.googleapis.com/tensorflow/tf-keras-datasets/mnist.npz\n",
            "11490434/11490434 [==============================] - 0s 0us/step\n",
            "Epoch 1/5\n",
            "1875/1875 [==============================] - 8s 4ms/step - loss: 0.2579 - accuracy: 0.9271\n",
            "Epoch 2/5\n",
            "1875/1875 [==============================] - 13s 7ms/step - loss: 0.1146 - accuracy: 0.9662\n",
            "Epoch 3/5\n",
            "1875/1875 [==============================] - 11s 6ms/step - loss: 0.0781 - accuracy: 0.9764\n",
            "Epoch 4/5\n",
            "1875/1875 [==============================] - 7s 4ms/step - loss: 0.0588 - accuracy: 0.9816\n",
            "Epoch 5/5\n",
            "1875/1875 [==============================] - 8s 4ms/step - loss: 0.0450 - accuracy: 0.9862\n",
            "313/313 [==============================] - 1s 2ms/step - loss: 0.0692 - accuracy: 0.9779\n",
            "Test accuracy: 0.9779000282287598\n"
          ]
        }
      ]
    },
    {
      "cell_type": "markdown",
      "source": [
        "**GRAPH COLOURING**"
      ],
      "metadata": {
        "id": "FgyaB_fv5Y6s"
      }
    },
    {
      "cell_type": "code",
      "source": [
        "V = 4\n",
        "\n",
        "def print_solution(color):\n",
        "    print(\"Solution Exists: Following are the assigned colors\")\n",
        "    print(\" \".join(map(str, color)))\n",
        "\n",
        "def is_safe(v, graph, color, c):\n",
        "    # Check if the color 'c' is safe for the vertex 'v'\n",
        "    for i in range(V):\n",
        "        if graph[v][i] and c == color[i]:\n",
        "            return False\n",
        "    return True\n",
        "\n",
        "def graph_coloring_util(graph, m, color, v):\n",
        "    # Base case: If all vertices are assigned a color, return true\n",
        "    if v == V:\n",
        "        return True\n",
        "\n",
        "    # Try different colors for the current vertex 'v'\n",
        "    for c in range(1, m + 1):\n",
        "        # Check if assignment of color 'c' to 'v' is fine\n",
        "        if is_safe(v, graph, color, c):\n",
        "            color[v] = c\n",
        "\n",
        "            # Recur to assign colors to the rest of the vertices\n",
        "            if graph_coloring_util(graph, m, color, v + 1):\n",
        "                return True\n",
        "\n",
        "            # If assigning color 'c' doesn't lead to a solution, remove it\n",
        "            color[v] = 0\n",
        "\n",
        "    # If no color can be assigned to this vertex, return false\n",
        "    return False\n",
        "\n",
        "def graph_coloring(graph, m):\n",
        "    color = [0] * V\n",
        "\n",
        "    # Call graph_coloring_util() for vertex 0\n",
        "    if not graph_coloring_util(graph, m, color, 0):\n",
        "        print(\"Solution does not exist\")\n",
        "        return False\n",
        "\n",
        "    print_solution(color)\n",
        "    return True\n",
        "\n",
        "# Driver code\n",
        "if __name__ == \"__main__\":\n",
        "    graph = [\n",
        "        [0, 1, 1, 1],\n",
        "        [1, 0, 1, 0],\n",
        "        [1, 1, 0, 1],\n",
        "        [1, 0, 1, 0],\n",
        "    ]\n",
        "\n",
        "    m = 3\n",
        "    graph_coloring(graph, m)"
      ],
      "metadata": {
        "colab": {
          "base_uri": "https://localhost:8080/"
        },
        "id": "wOT_iuWl5dsl",
        "outputId": "33184d8e-c2a4-406a-a510-58e385af9a99"
      },
      "execution_count": null,
      "outputs": [
        {
          "output_type": "stream",
          "name": "stdout",
          "text": [
            "Solution Exists: Following are the assigned colors\n",
            "1 2 3 2\n"
          ]
        }
      ]
    }
  ]
}